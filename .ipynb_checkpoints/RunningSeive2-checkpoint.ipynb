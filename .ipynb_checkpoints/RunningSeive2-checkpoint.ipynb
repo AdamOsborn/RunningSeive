{
 "cells": [
  {
   "cell_type": "markdown",
   "metadata": {},
   "source": [
    "### 'RunningSeive' class"
   ]
  },
  {
   "cell_type": "code",
   "execution_count": 1,
   "metadata": {},
   "outputs": [],
   "source": [
    "import time\n",
    "import pickle\n",
    "import sys\n",
    "\n",
    "# A Class for calculating prime numbers\n",
    "class CurrentSeive:\n",
    "    #batch size indicates the amount of numbers checked each time self.runSeive() is called\n",
    "    def __init__(self, batchSize=1000000):\n",
    "        self.seive = {}\n",
    "        self.primes = set()\n",
    "        self.highestPrime = 0\n",
    "        self.last = 1\n",
    "        self.batchSize = batchSize\n",
    "        self.clock = time.time()\n",
    "        self.batchNumber = 0\n",
    "    \n",
    "    # Incrementaly increase the range which the seive covers\n",
    "    def incRoots(self, n):\n",
    "        for i in self.seive[n]:\n",
    "            if n + i in self.seive:\n",
    "                self.seive[n + i].append(i)\n",
    "            else:\n",
    "                self.seive[n + i] = [i]        \n",
    "\n",
    "    # find all prime numbers in the range [self.last, self.last + self.batchSize]    \n",
    "    def runSeive(self):\n",
    "#    def runSeive(self, clock):\n",
    "#        self.clock = clock\n",
    "#        self.clock = time.time()\n",
    "        for i in range(self.last + 1, self.last + self.batchSize + 1):\n",
    "            if i not in self.seive:\n",
    "                self.seive[i] = [i]\n",
    "                self.primes.add(i)\n",
    "                self.highestPrime = i\n",
    "            self.incRoots(i)\n",
    "            del self.seive[i]\n",
    "            self.last = i\n",
    "        self.batchNumber += 1\n",
    "        print('BATCH', self.batchNumber, 'COMPLETE: number of primes found=', len(self.primes), \\\n",
    "              'lastChecked=', self.last, 'timeRequired=', (time.time() - self.clock)//1, 's')\n",
    "    \n",
    "    # print a report of the current status\n",
    "    def report(self):\n",
    "        print('number of primes found = ', len(self.primes), '  ', sys.getsizeof(self.primes)//1000000, 'MB')\n",
    "        print('highest prime found = ', self.highestPrime)\n",
    "        #print('is it prime? ', isPrime(highPrime))\n",
    "        print('last number checked = ', self.last)\n",
    "        print('size of running seive = ', len(self.seive), '  ', sys.getsizeof(self.seive)//1000000, 'MB')\n",
    "        print('last batch = ', self.batchNumber)\n",
    "    \n",
    "    def timeStamp(self):\n",
    "        print(self.clock)\n",
    "        self.clock = time.time()\n",
    "\n",
    "# upper bound on range to check for roots of n\n",
    "def sqrtLid(n):  \n",
    "    for i in range(1, n + 1):\n",
    "        if i * i > n:\n",
    "            return i\n",
    "    # return -1 should never happen for any integer greater than 1\n",
    "    return -1\n",
    "\n",
    "# returns true if n is prime (an unnecessary check for debugging the running seive algorithm)\n",
    "def isPrime(n):\n",
    "    for i in range(2, sqrtLid(n)):\n",
    "        if n % i == 0:\n",
    "            return False\n",
    "    return True\n",
    "\n",
    "# WARNING: calling this function takes an unreasonable amount of time to run.\n",
    "# input: a list of suposedly prime numbers\n",
    "# output: all numbers that are not prime (reported as \"FALSE PRIME\")\n",
    "# and a count of how many numbers were proccessed\n",
    "def checkPrimes(primes):\n",
    "    n = 0\n",
    "    for i in primes:\n",
    "        if not isPrime(i):\n",
    "            print('FALSE PRIME: ', i)\n",
    "        n = n +1\n",
    "    print('Check Complete ', n)\n",
    "    \n",
    "# returns a file name string,\n",
    "# used in pickle.dump(Filename(i), \"wb\")\n",
    "def fileName(i):\n",
    "    if i < 10:\n",
    "        name = 'cs-000' + str(i) + '.p'\n",
    "    elif i < 100:\n",
    "        name = 'cs-00' + str(i) + '.p'\n",
    "    else:\n",
    "        name = 'cs-0' + str(i) + '.p'        \n",
    "    return name\n"
   ]
  },
  {
   "cell_type": "markdown",
   "metadata": {},
   "source": [
    "### Prime Number List Generation"
   ]
  },
  {
   "cell_type": "code",
   "execution_count": 2,
   "metadata": {},
   "outputs": [],
   "source": [
    "cs = CurrentSeive()"
   ]
  },
  {
   "cell_type": "code",
   "execution_count": 3,
   "metadata": {},
   "outputs": [
    {
     "name": "stdout",
     "output_type": "stream",
     "text": [
      "BATCH 1 COMPLETE: number of primes found= 78498 lastChecked= 1000000 timeRequired= 1.0 s\n",
      "BATCH 2 COMPLETE: number of primes found= 148934 lastChecked= 1999999 timeRequired= 3.0 s\n",
      "BATCH 3 COMPLETE: number of primes found= 216818 lastChecked= 2999998 timeRequired= 5.0 s\n",
      "BATCH 4 COMPLETE: number of primes found= 283148 lastChecked= 3999997 timeRequired= 7.0 s\n",
      "BATCH 5 COMPLETE: number of primes found= 348515 lastChecked= 4999996 timeRequired= 10.0 s\n",
      "BATCH 6 COMPLETE: number of primes found= 412853 lastChecked= 5999995 timeRequired= 12.0 s\n",
      "BATCH 7 COMPLETE: number of primes found= 476652 lastChecked= 6999994 timeRequired= 15.0 s\n",
      "BATCH 8 COMPLETE: number of primes found= 539783 lastChecked= 7999993 timeRequired= 18.0 s\n",
      "BATCH 9 COMPLETE: number of primes found= 602496 lastChecked= 8999992 timeRequired= 21.0 s\n",
      "BATCH 10 COMPLETE: number of primes found= 664586 lastChecked= 9999991 timeRequired= 24.0 s\n",
      "BATCH 11 COMPLETE: number of primes found= 726524 lastChecked= 10999990 timeRequired= 27.0 s\n",
      "BATCH 12 COMPLETE: number of primes found= 788069 lastChecked= 11999989 timeRequired= 30.0 s\n",
      "BATCH 13 COMPLETE: number of primes found= 849261 lastChecked= 12999988 timeRequired= 34.0 s\n",
      "BATCH 14 COMPLETE: number of primes found= 910087 lastChecked= 13999987 timeRequired= 38.0 s\n",
      "BATCH 15 COMPLETE: number of primes found= 970715 lastChecked= 14999986 timeRequired= 42.0 s\n",
      "BATCH 16 COMPLETE: number of primes found= 1031141 lastChecked= 15999985 timeRequired= 46.0 s\n",
      "BATCH 17 COMPLETE: number of primes found= 1091326 lastChecked= 16999984 timeRequired= 49.0 s\n",
      "BATCH 18 COMPLETE: number of primes found= 1151380 lastChecked= 17999983 timeRequired= 54.0 s\n",
      "BATCH 19 COMPLETE: number of primes found= 1211062 lastChecked= 18999982 timeRequired= 59.0 s\n",
      "BATCH 20 COMPLETE: number of primes found= 1270622 lastChecked= 19999981 timeRequired= 62.0 s\n"
     ]
    },
    {
     "ename": "KeyboardInterrupt",
     "evalue": "",
     "output_type": "error",
     "traceback": [
      "\u001b[0;31m---------------------------------------------------------------------------\u001b[0m",
      "\u001b[0;31mKeyboardInterrupt\u001b[0m                         Traceback (most recent call last)",
      "\u001b[0;32m<ipython-input-3-8640a34fa3b7>\u001b[0m in \u001b[0;36m<module>\u001b[0;34m\u001b[0m\n\u001b[1;32m      6\u001b[0m \u001b[0;32mfor\u001b[0m \u001b[0mi\u001b[0m \u001b[0;32min\u001b[0m \u001b[0mrange\u001b[0m\u001b[0;34m(\u001b[0m\u001b[0mnumLoops\u001b[0m\u001b[0;34m)\u001b[0m\u001b[0;34m:\u001b[0m\u001b[0;34m\u001b[0m\u001b[0m\n\u001b[1;32m      7\u001b[0m     \u001b[0mcs\u001b[0m\u001b[0;34m.\u001b[0m\u001b[0mrunSeive\u001b[0m\u001b[0;34m(\u001b[0m\u001b[0;34m)\u001b[0m\u001b[0;34m\u001b[0m\u001b[0m\n\u001b[0;32m----> 8\u001b[0;31m     \u001b[0mpickle\u001b[0m\u001b[0;34m.\u001b[0m\u001b[0mdump\u001b[0m\u001b[0;34m(\u001b[0m\u001b[0mcs\u001b[0m\u001b[0;34m,\u001b[0m \u001b[0mopen\u001b[0m\u001b[0;34m(\u001b[0m\u001b[0mfileName\u001b[0m\u001b[0;34m(\u001b[0m\u001b[0mcs\u001b[0m\u001b[0;34m.\u001b[0m\u001b[0mbatchNumber\u001b[0m\u001b[0;34m)\u001b[0m\u001b[0;34m,\u001b[0m \u001b[0;34m\"wb\"\u001b[0m \u001b[0;34m)\u001b[0m \u001b[0;34m)\u001b[0m\u001b[0;34m\u001b[0m\u001b[0m\n\u001b[0m\u001b[1;32m      9\u001b[0m \u001b[0;34m\u001b[0m\u001b[0m\n\u001b[1;32m     10\u001b[0m \u001b[0mcs\u001b[0m\u001b[0;34m.\u001b[0m\u001b[0mreport\u001b[0m\u001b[0;34m(\u001b[0m\u001b[0;34m)\u001b[0m\u001b[0;34m\u001b[0m\u001b[0m\n",
      "\u001b[0;31mKeyboardInterrupt\u001b[0m: "
     ]
    }
   ],
   "source": [
    "# test running sieve for multiple iterations\n",
    "# current record is 40 succesful iterations ()\n",
    "numLoops = 50\n",
    "cs.clock = time.time()\n",
    "    \n",
    "for i in range(numLoops):\n",
    "    cs.runSeive()\n",
    "    pickle.dump(cs, open(fileName(cs.batchNumber), \"wb\" ) )\n",
    "\n",
    "cs.report()"
   ]
  },
  {
   "cell_type": "markdown",
   "metadata": {},
   "source": [
    "### Report and Checking"
   ]
  },
  {
   "cell_type": "code",
   "execution_count": null,
   "metadata": {},
   "outputs": [],
   "source": [
    "# Recall a set of primes from pickle\n",
    "#fileName = 'cs-0' + str(cs.batchNumber) + '.p'\n",
    "\n",
    "tempcs = pickle.load( open(fileName(cs.batchNumber), \"rb\" ) )\n",
    "#sys.getsizeof(tempcs)\n",
    "tempcs.report()"
   ]
  },
  {
   "cell_type": "markdown",
   "metadata": {},
   "source": [
    "### Manual Increment"
   ]
  },
  {
   "cell_type": "code",
   "execution_count": null,
   "metadata": {},
   "outputs": [],
   "source": [
    "lastBatch = None\n",
    "tempcs = pickle.load( open(fileName(lastBatch), \"rb\" ) )\n",
    "#tempcs.batchSize = 1000\n",
    "tempcs.runSeive()\n",
    "pickle.dump(tempcs, open(fileName(tempcs.batchNumber), \"wb\" ) )\n",
    "\n",
    "tempcs.report()"
   ]
  },
  {
   "cell_type": "code",
   "execution_count": null,
   "metadata": {},
   "outputs": [],
   "source": [
    "# highest prime found yet =  5,999,993\n",
    "# highest prime found yet = 41,699,969\n",
    "isPrime(8971)"
   ]
  },
  {
   "cell_type": "code",
   "execution_count": null,
   "metadata": {},
   "outputs": [],
   "source": [
    "# This algrithm takes FOREVER on large inputs\n",
    "checkPrimes([1,3,400,5,7])\n",
    "#tempcs.primes"
   ]
  },
  {
   "cell_type": "markdown",
   "metadata": {},
   "source": [
    "### Junk Code Below"
   ]
  },
  {
   "cell_type": "code",
   "execution_count": null,
   "metadata": {},
   "outputs": [],
   "source": [
    "print(sys.getsizeof(\"theste;lkjlakf\")/1000, 'kB')"
   ]
  },
  {
   "cell_type": "code",
   "execution_count": null,
   "metadata": {},
   "outputs": [],
   "source": [
    "cs.batchNumber"
   ]
  },
  {
   "cell_type": "code",
   "execution_count": null,
   "metadata": {},
   "outputs": [],
   "source": [
    "fileName(5)"
   ]
  },
  {
   "cell_type": "code",
   "execution_count": null,
   "metadata": {},
   "outputs": [],
   "source": []
  }
 ],
 "metadata": {
  "kernelspec": {
   "display_name": "Python 3",
   "language": "python",
   "name": "python3"
  },
  "language_info": {
   "codemirror_mode": {
    "name": "ipython",
    "version": 3
   },
   "file_extension": ".py",
   "mimetype": "text/x-python",
   "name": "python",
   "nbconvert_exporter": "python",
   "pygments_lexer": "ipython3",
   "version": "3.6.4"
  }
 },
 "nbformat": 4,
 "nbformat_minor": 2
}
