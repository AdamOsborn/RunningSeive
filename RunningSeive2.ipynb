{
 "cells": [
  {
   "cell_type": "markdown",
   "metadata": {},
   "source": [
    "### 'RunningSeive' class"
   ]
  },
  {
   "cell_type": "code",
   "execution_count": 2,
   "metadata": {},
   "outputs": [],
   "source": [
    "import time\n",
    "import pickle\n",
    "import sys\n",
    "\n",
    "# A Class for calculating prime numbers\n",
    "class CurrentSeive:\n",
    "    #batch size indicates the amount of numbers checked each time self.runSeive() is called\n",
    "    def __init__(self, batchSize=1000000):\n",
    "        self.seive = {}\n",
    "        self.primes = set()\n",
    "        self.highestPrime = 0\n",
    "        self.last = 1\n",
    "        self.batchSize = batchSize\n",
    "        self.clock = time.time()\n",
    "        self.batchNumber = 0\n",
    "    \n",
    "    # Incrementaly increase the range which the seive covers\n",
    "    def incRoots(self, n):\n",
    "        for i in self.seive[n]:\n",
    "            if n + i in self.seive:\n",
    "                self.seive[n + i].append(i)\n",
    "            else:\n",
    "                self.seive[n + i] = [i]        \n",
    "\n",
    "    # find all prime numbers in the range [self.last, self.last + self.batchSize]    \n",
    "    def runSeive(self):\n",
    "#    def runSeive(self, clock):\n",
    "#        self.clock = clock\n",
    "#        self.clock = time.time()\n",
    "        for i in range(self.last + 1, self.last + self.batchSize + 1):\n",
    "            if i not in self.seive:\n",
    "                self.seive[i] = [i]\n",
    "                self.primes.add(i)\n",
    "                self.highestPrime = i\n",
    "            self.incRoots(i)\n",
    "            del self.seive[i]\n",
    "            self.last = i\n",
    "        self.batchNumber += 1\n",
    "        print('BATCH', self.batchNumber, 'COMPLETE: number of primes found=', len(self.primes), \\\n",
    "              'lastChecked=', self.last, 'timeRequired=', (time.time() - self.clock)//1, 's')\n",
    "    \n",
    "    # print a report of the current status\n",
    "    def report(self):\n",
    "        print('number of primes found = ', len(self.primes), '  ', sys.getsizeof(self.primes)//1000000, 'MB')\n",
    "        print('highest prime found = ', self.highestPrime)\n",
    "        #print('is it prime? ', isPrime(highPrime))\n",
    "        print('last number checked = ', self.last)\n",
    "        print('size of running seive = ', len(self.seive), '  ', sys.getsizeof(self.seive)//1000000, 'MB')\n",
    "        print('last batch = ', self.batchNumber)\n",
    "    \n",
    "    def timeStamp(self):\n",
    "        print(self.clock)\n",
    "        self.clock = time.time()\n",
    "\n",
    "# upper bound on range to check for roots of n\n",
    "def sqrtLid(n):  \n",
    "    for i in range(1, n + 1):\n",
    "        if i * i > n:\n",
    "            return i\n",
    "    # return -1 should never happen for any integer greater than 1\n",
    "    return -1\n",
    "\n",
    "# returns true if n is prime (an unnecessary check for debugging the running seive algorithm)\n",
    "def isPrime(n):\n",
    "    for i in range(2, sqrtLid(n)):\n",
    "        if n % i == 0:\n",
    "            return False\n",
    "    return True\n",
    "\n",
    "# WARNING: calling this function takes an unreasonable amount of time to run.\n",
    "# input: a list of suposedly prime numbers\n",
    "# output: all numbers that are not prime (reported as \"FALSE PRIME\")\n",
    "# and a count of how many numbers were proccessed\n",
    "def checkPrimes(primes):\n",
    "    n = 0\n",
    "    for i in primes:\n",
    "        if not isPrime(i):\n",
    "            print('FALSE PRIME: ', i)\n",
    "        n = n +1\n",
    "    print('Check Complete ', n)\n",
    "    \n",
    "# returns a file name string,\n",
    "# used in pickle.dump(Filename(i), \"wb\")\n",
    "def fileName(i):\n",
    "    if i < 10:\n",
    "        name = 'cs-000' + str(i) + '.p'\n",
    "    elif i < 100:\n",
    "        name = 'cs-00' + str(i) + '.p'\n",
    "    else:\n",
    "        name = 'cs-0' + str(i) + '.p'        \n",
    "    return name\n"
   ]
  },
  {
   "cell_type": "markdown",
   "metadata": {},
   "source": [
    "### Prime Number List Generation"
   ]
  },
  {
   "cell_type": "code",
   "execution_count": 2,
   "metadata": {},
   "outputs": [],
   "source": [
    "cs = CurrentSeive()"
   ]
  },
  {
   "cell_type": "code",
   "execution_count": null,
   "metadata": {},
   "outputs": [
    {
     "name": "stdout",
     "output_type": "stream",
     "text": [
      "BATCH 1 COMPLETE: number of primes found= 78498 lastChecked= 1000001 timeRequired= 1.0 s\n",
      "BATCH 2 COMPLETE: number of primes found= 148933 lastChecked= 2000001 timeRequired= 3.0 s\n",
      "BATCH 3 COMPLETE: number of primes found= 216816 lastChecked= 3000001 timeRequired= 5.0 s\n",
      "BATCH 4 COMPLETE: number of primes found= 283146 lastChecked= 4000001 timeRequired= 8.0 s\n",
      "BATCH 5 COMPLETE: number of primes found= 348513 lastChecked= 5000001 timeRequired= 10.0 s\n",
      "BATCH 6 COMPLETE: number of primes found= 412849 lastChecked= 6000001 timeRequired= 13.0 s\n",
      "BATCH 7 COMPLETE: number of primes found= 476648 lastChecked= 7000001 timeRequired= 16.0 s\n",
      "BATCH 8 COMPLETE: number of primes found= 539777 lastChecked= 8000001 timeRequired= 19.0 s\n",
      "BATCH 9 COMPLETE: number of primes found= 602489 lastChecked= 9000001 timeRequired= 22.0 s\n",
      "BATCH 10 COMPLETE: number of primes found= 664579 lastChecked= 10000001 timeRequired= 25.0 s\n",
      "BATCH 11 COMPLETE: number of primes found= 726517 lastChecked= 11000001 timeRequired= 29.0 s\n",
      "BATCH 12 COMPLETE: number of primes found= 788060 lastChecked= 12000001 timeRequired= 32.0 s\n",
      "BATCH 13 COMPLETE: number of primes found= 849252 lastChecked= 13000001 timeRequired= 36.0 s\n",
      "BATCH 14 COMPLETE: number of primes found= 910077 lastChecked= 14000001 timeRequired= 39.0 s\n",
      "BATCH 15 COMPLETE: number of primes found= 970704 lastChecked= 15000001 timeRequired= 43.0 s\n",
      "BATCH 16 COMPLETE: number of primes found= 1031130 lastChecked= 16000001 timeRequired= 47.0 s\n",
      "BATCH 17 COMPLETE: number of primes found= 1091314 lastChecked= 17000001 timeRequired= 51.0 s\n",
      "BATCH 18 COMPLETE: number of primes found= 1151367 lastChecked= 18000001 timeRequired= 55.0 s\n",
      "BATCH 19 COMPLETE: number of primes found= 1211050 lastChecked= 19000001 timeRequired= 60.0 s\n",
      "BATCH 20 COMPLETE: number of primes found= 1270607 lastChecked= 20000001 timeRequired= 64.0 s\n",
      "BATCH 21 COMPLETE: number of primes found= 1329943 lastChecked= 21000001 timeRequired= 69.0 s\n",
      "BATCH 22 COMPLETE: number of primes found= 1389262 lastChecked= 22000001 timeRequired= 74.0 s\n",
      "BATCH 23 COMPLETE: number of primes found= 1448221 lastChecked= 23000001 timeRequired= 78.0 s\n",
      "BATCH 24 COMPLETE: number of primes found= 1507123 lastChecked= 24000001 timeRequired= 84.0 s\n",
      "BATCH 25 COMPLETE: number of primes found= 1565927 lastChecked= 25000001 timeRequired= 90.0 s\n",
      "BATCH 26 COMPLETE: number of primes found= 1624527 lastChecked= 26000001 timeRequired= 96.0 s\n",
      "BATCH 27 COMPLETE: number of primes found= 1683065 lastChecked= 27000001 timeRequired= 102.0 s\n",
      "BATCH 28 COMPLETE: number of primes found= 1741430 lastChecked= 28000001 timeRequired= 106.0 s\n",
      "BATCH 29 COMPLETE: number of primes found= 1799676 lastChecked= 29000001 timeRequired= 113.0 s\n",
      "BATCH 30 COMPLETE: number of primes found= 1857860 lastChecked= 30000001 timeRequired= 121.0 s\n",
      "BATCH 31 COMPLETE: number of primes found= 1915979 lastChecked= 31000001 timeRequired= 126.0 s\n",
      "BATCH 32 COMPLETE: number of primes found= 1973815 lastChecked= 32000001 timeRequired= 133.0 s\n",
      "BATCH 33 COMPLETE: number of primes found= 2031668 lastChecked= 33000001 timeRequired= 140.0 s\n",
      "BATCH 34 COMPLETE: number of primes found= 2089379 lastChecked= 34000001 timeRequired= 147.0 s\n",
      "BATCH 35 COMPLETE: number of primes found= 2146775 lastChecked= 35000001 timeRequired= 154.0 s\n",
      "BATCH 36 COMPLETE: number of primes found= 2204262 lastChecked= 36000001 timeRequired= 160.0 s\n",
      "BATCH 37 COMPLETE: number of primes found= 2261623 lastChecked= 37000001 timeRequired= 171.0 s\n",
      "BATCH 38 COMPLETE: number of primes found= 2318966 lastChecked= 38000001 timeRequired= 179.0 s\n",
      "BATCH 39 COMPLETE: number of primes found= 2376403 lastChecked= 39000001 timeRequired= 186.0 s\n",
      "BATCH 40 COMPLETE: number of primes found= 2433654 lastChecked= 40000001 timeRequired= 195.0 s\n",
      "BATCH 41 COMPLETE: number of primes found= 2490756 lastChecked= 41000001 timeRequired= 204.0 s\n"
     ]
    }
   ],
   "source": [
    "# test running sieve for multiple iterations\n",
    "# current record is 40 succesful iterations ()\n",
    "numLoops = 50\n",
    "cs.clock = time.time()\n",
    "    \n",
    "for i in range(numLoops):\n",
    "    cs.runSeive()\n",
    "    pickle.dump(cs, open(fileName(cs.batchNumber), \"wb\" ) )\n",
    "\n",
    "cs.report()"
   ]
  },
  {
   "cell_type": "markdown",
   "metadata": {},
   "source": [
    "### Report and Checking"
   ]
  },
  {
   "cell_type": "code",
   "execution_count": 3,
   "metadata": {},
   "outputs": [
    {
     "name": "stdout",
     "output_type": "stream",
     "text": [
      "number of primes found =  2146775    67 MB\n",
      "highest prime found =  34999969\n",
      "last number checked =  35000001\n",
      "size of running seive =  2146524    83 MB\n",
      "last batch =  35\n"
     ]
    }
   ],
   "source": [
    "# Recall a set of primes from pickle\n",
    "#fileName = 'cs-0' + str(cs.batchNumber) + '.p'\n",
    "\n",
    "tempcs = pickle.load( open(fileName(35), \"rb\" ) )\n",
    "#sys.getsizeof(tempcs)\n",
    "tempcs.report()"
   ]
  },
  {
   "cell_type": "markdown",
   "metadata": {},
   "source": [
    "### Manual Increment"
   ]
  },
  {
   "cell_type": "code",
   "execution_count": null,
   "metadata": {},
   "outputs": [],
   "source": [
    "lastBatch = 35\n",
    "tempcs = pickle.load( open(fileName(lastBatch), \"rb\" ) )\n",
    "tempcs.batchSize = 1000\n",
    "tempcs.runSeive()\n",
    "pickle.dump(tempcs, open(fileName(tempcs.batchNumber), \"wb\" ) )\n",
    "\n",
    "tempcs.report()"
   ]
  },
  {
   "cell_type": "code",
   "execution_count": null,
   "metadata": {},
   "outputs": [],
   "source": [
    "# highest prime found yet =  5,999,993\n",
    "# highest prime found yet = 41,699,969\n",
    "isPrime(8971)"
   ]
  },
  {
   "cell_type": "code",
   "execution_count": null,
   "metadata": {},
   "outputs": [],
   "source": [
    "# This algrithm takes FOREVER on large inputs\n",
    "checkPrimes([1,3,400,5,7])\n",
    "#tempcs.primes"
   ]
  },
  {
   "cell_type": "markdown",
   "metadata": {},
   "source": [
    "### Junk Code Below"
   ]
  },
  {
   "cell_type": "code",
   "execution_count": null,
   "metadata": {},
   "outputs": [],
   "source": [
    "print(sys.getsizeof(\"theste;lkjlakf\")/1000, 'kB')"
   ]
  },
  {
   "cell_type": "code",
   "execution_count": null,
   "metadata": {},
   "outputs": [],
   "source": [
    "cs.batchNumber"
   ]
  },
  {
   "cell_type": "code",
   "execution_count": null,
   "metadata": {},
   "outputs": [],
   "source": [
    "fileName(5)"
   ]
  },
  {
   "cell_type": "code",
   "execution_count": null,
   "metadata": {},
   "outputs": [],
   "source": []
  }
 ],
 "metadata": {
  "kernelspec": {
   "display_name": "Python 3",
   "language": "python",
   "name": "python3"
  },
  "language_info": {
   "codemirror_mode": {
    "name": "ipython",
    "version": 3
   },
   "file_extension": ".py",
   "mimetype": "text/x-python",
   "name": "python",
   "nbconvert_exporter": "python",
   "pygments_lexer": "ipython3",
   "version": "3.6.4"
  }
 },
 "nbformat": 4,
 "nbformat_minor": 2
}
